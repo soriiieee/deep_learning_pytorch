{
 "cells": [
  {
   "cell_type": "code",
   "execution_count": 1,
   "metadata": {},
   "outputs": [],
   "source": [
    "\"\"\"\n",
    "読書メーターの結果表示\n",
    "\n",
    "https://bookmeter.com/users/430707/books/read?display_type=list&page=1\n",
    "\"\"\"\n",
    "### ------------------------------------------------\n",
    "# basic-module\n",
    "import matplotlib.pyplot as plt\n",
    "import sys,os,re,glob\n",
    "import pandas as pd\n",
    "import numpy as np\n",
    "from datetime import datetime, timedelta\n",
    "import warnings\n",
    "warnings.simplefilter('ignore')\n",
    "from tqdm import tqdm\n",
    "import seaborn as sns\n",
    "# sori -module\n",
    "# sys.path.append('/home/ysorimachi/tool')\n",
    "# from getErrorValues import me,rmse,mae,r2 #(x,y)\n",
    "# from convSokuhouData import conv_sfc #(df, ave=minutes,hour)\n",
    "\n",
    "# #---------------------------------------------------\n",
    "# import subprocess\n",
    "# import requests\n",
    "# #--------------------------\n",
    "# import pickle\n",
    "# import gzip\n",
    "# from pathlib import Path\n",
    "\n",
    "# deep learning modules \n",
    "# imports\n",
    "if 0:\n",
    "    import torch\n",
    "    import torchvision\n",
    "    import torchvision.transforms as transforms\n",
    "    import torch.nn as nn\n",
    "    import torch.nn.functional as F\n",
    "    import torch.optim as optim\n",
    "    from torch.utils.data import DataLoader, TensorDataset, Dataset\n",
    "    from torchinfo import summary #torchinfoはニューラルネットの中身を見れるのでおすすめ"
   ]
  },
  {
   "cell_type": "code",
   "execution_count": 10,
   "metadata": {},
   "outputs": [],
   "source": [
    "from bs4 import BeautifulSoup as BS4\n",
    "import requests\n",
    "import time\n",
    "# １０分で理解できるbeautifulsoup\n",
    "# https://qiita.com/Chanmoro/items/db51658b073acddea4ac"
   ]
  },
  {
   "cell_type": "code",
   "execution_count": 169,
   "metadata": {},
   "outputs": [],
   "source": [
    "import time\n",
    "N_PAGE=29\n",
    "# for p in list(range(1,N_PAGE+1))\n",
    "def get_book_info(p):\n",
    "    URL=f\"https://bookmeter.com/users/430707/books/read?display_type=list&page={p}\"\n",
    "    res = requests.get(URL,timeout=(6,10))\n",
    "#     time.sleep(2)\n",
    "    if res.status_code ==200:\n",
    "#     if 1:\n",
    "        soup = BS4(res.text, 'html.parser')\n",
    "        #css selector -> soup.select(\"[class='ramen title']\")\n",
    "#         https://gammasoft.jp/support/css-selector-for-python-web-scraping/\n",
    "        _li = soup.select(\"[class='group__book']\")\n",
    "        return _li\n",
    "    else:\n",
    "        print(\"status_code is \".format(res.status_code))\n",
    "        return []\n",
    "\n",
    "def select_info(li):\n",
    "    # li から著者名/タイトル/読んだ日をまとめる\n",
    "    Title = li.select(\"[class='detail__title']\")[0].text \n",
    "    Authors = li.select(\"[class='detail__authors']\")[0].text\n",
    "    Date = li.select(\"[class='detail__date']\")[0].text\n",
    "    Page = li.select(\"[class='detail__page']\")[0].text\n",
    "\n",
    "    Title =\"NaN\" if Title is None else Title\n",
    "    Authors =\"NaN\" if Authors is None else Authors\n",
    "    Date =None if Date is None else Date\n",
    "    Page =\"NaN\" if Date is None else Page\n",
    "    \n",
    "    if Date is not None:\n",
    "        yy,mm,dd = map(int, Date.split(\"/\"))\n",
    "        Date = datetime(yy,mm,dd,0,0)\n",
    "    else:\n",
    "        Date = datetime(1999,1,1,0,0)\n",
    "    return Title,Authors,Date,Page\n",
    "\n",
    "def mk_book_list(p):\n",
    "    _li = get_book_info(p)\n",
    "    if len(_li) ==0:\n",
    "#         sys.exit(\"Not Foun data\")\n",
    "        return pd.DataFrame() #empty\n",
    "    else:\n",
    "        _t,_a,_d,_p= [],[],[],[]\n",
    "        \n",
    "        for li in _li:\n",
    "            t,a,d,page = select_info(li)\n",
    "            _t.append(t),_a.append(a),_d.append(d),_p.append(page)\n",
    "        df = pd.DataFrame()\n",
    "        df[\"time\"] = _d\n",
    "        df[\"title\"] = _t\n",
    "        df[\"author\"] = _a\n",
    "        df[\"page\"] = _p\n",
    "        return df\n",
    "    \n",
    "# df = mk_book_list(2)\n",
    "# df.head()"
   ]
  },
  {
   "cell_type": "code",
   "execution_count": 170,
   "metadata": {},
   "outputs": [],
   "source": [
    "# _li = get_book_info(1)\n",
    "# _li[0].find_all(\"div\")"
   ]
  },
  {
   "cell_type": "code",
   "execution_count": 171,
   "metadata": {},
   "outputs": [],
   "source": [
    "# N_PAGE=29\n",
    "# _df = []\n",
    "# for p in list(range(1,N_PAGE+1)):\n",
    "#     print(p)\n",
    "#     df = mk_book_list(p)\n",
    "#     if not df.empty:\n",
    "#         _df.append(df)\n",
    "#     else:\n",
    "#         print(p,\"isNot ...\")\n",
    "#     time.sleep(2)\n",
    "# df = pd.concat(_df,axis=0)"
   ]
  },
  {
   "cell_type": "code",
   "execution_count": 172,
   "metadata": {},
   "outputs": [
    {
     "data": {
      "text/plain": [
       "(20, 4)"
      ]
     },
     "execution_count": 172,
     "metadata": {},
     "output_type": "execute_result"
    }
   ],
   "source": [
    "# df.head()\n",
    "df.shape"
   ]
  },
  {
   "cell_type": "code",
   "execution_count": 173,
   "metadata": {},
   "outputs": [
    {
     "data": {
      "text/plain": [
       "(20, 4)"
      ]
     },
     "execution_count": 173,
     "metadata": {},
     "output_type": "execute_result"
    }
   ],
   "source": [
    "df1= mk_book_list(1)\n",
    "df1.shape"
   ]
  },
  {
   "cell_type": "code",
   "execution_count": 174,
   "metadata": {},
   "outputs": [
    {
     "data": {
      "text/plain": [
       "(20, 4)"
      ]
     },
     "execution_count": 174,
     "metadata": {},
     "output_type": "execute_result"
    }
   ],
   "source": [
    "df2= mk_book_list(2)\n",
    "df2.shape"
   ]
  },
  {
   "cell_type": "code",
   "execution_count": 177,
   "metadata": {},
   "outputs": [
    {
     "data": {
      "text/plain": [
       "(20, 4)"
      ]
     },
     "execution_count": 177,
     "metadata": {},
     "output_type": "execute_result"
    }
   ],
   "source": [
    "df3= mk_book_list(3)\n",
    "df3.shape"
   ]
  },
  {
   "cell_type": "code",
   "execution_count": 182,
   "metadata": {},
   "outputs": [
    {
     "data": {
      "text/plain": [
       "(20, 4)"
      ]
     },
     "execution_count": 182,
     "metadata": {},
     "output_type": "execute_result"
    }
   ],
   "source": [
    "df4= mk_book_list(4)\n",
    "df4.shape"
   ]
  },
  {
   "cell_type": "code",
   "execution_count": 187,
   "metadata": {},
   "outputs": [
    {
     "data": {
      "text/plain": [
       "(20, 4)"
      ]
     },
     "execution_count": 187,
     "metadata": {},
     "output_type": "execute_result"
    }
   ],
   "source": [
    "df5= mk_book_list(5)\n",
    "df5.shape"
   ]
  },
  {
   "cell_type": "code",
   "execution_count": 192,
   "metadata": {},
   "outputs": [
    {
     "data": {
      "text/plain": [
       "(20, 4)"
      ]
     },
     "execution_count": 192,
     "metadata": {},
     "output_type": "execute_result"
    }
   ],
   "source": [
    "df6= mk_book_list(6)\n",
    "df6.shape"
   ]
  },
  {
   "cell_type": "code",
   "execution_count": 196,
   "metadata": {},
   "outputs": [
    {
     "data": {
      "text/plain": [
       "(20, 4)"
      ]
     },
     "execution_count": 196,
     "metadata": {},
     "output_type": "execute_result"
    }
   ],
   "source": [
    "df7= mk_book_list(7)\n",
    "df7.shape"
   ]
  },
  {
   "cell_type": "code",
   "execution_count": 201,
   "metadata": {},
   "outputs": [
    {
     "data": {
      "text/plain": [
       "(20, 4)"
      ]
     },
     "execution_count": 201,
     "metadata": {},
     "output_type": "execute_result"
    }
   ],
   "source": [
    "df8= mk_book_list(8)\n",
    "df8.shape"
   ]
  },
  {
   "cell_type": "code",
   "execution_count": 207,
   "metadata": {},
   "outputs": [
    {
     "data": {
      "text/plain": [
       "(20, 4)"
      ]
     },
     "execution_count": 207,
     "metadata": {},
     "output_type": "execute_result"
    }
   ],
   "source": [
    "df9= mk_book_list(9)\n",
    "df9.shape"
   ]
  },
  {
   "cell_type": "code",
   "execution_count": 212,
   "metadata": {},
   "outputs": [
    {
     "data": {
      "text/plain": [
       "(20, 4)"
      ]
     },
     "execution_count": 212,
     "metadata": {},
     "output_type": "execute_result"
    }
   ],
   "source": [
    "df10= mk_book_list(10)\n",
    "df10.shape"
   ]
  },
  {
   "cell_type": "code",
   "execution_count": 219,
   "metadata": {},
   "outputs": [
    {
     "data": {
      "text/plain": [
       "(20, 4)"
      ]
     },
     "execution_count": 219,
     "metadata": {},
     "output_type": "execute_result"
    }
   ],
   "source": [
    "df11= mk_book_list(11)\n",
    "df11.shape"
   ]
  },
  {
   "cell_type": "code",
   "execution_count": 226,
   "metadata": {},
   "outputs": [
    {
     "data": {
      "text/plain": [
       "(20, 4)"
      ]
     },
     "execution_count": 226,
     "metadata": {},
     "output_type": "execute_result"
    }
   ],
   "source": [
    "df12= mk_book_list(12)\n",
    "df12.shape"
   ]
  },
  {
   "cell_type": "code",
   "execution_count": 231,
   "metadata": {},
   "outputs": [
    {
     "data": {
      "text/plain": [
       "(20, 4)"
      ]
     },
     "execution_count": 231,
     "metadata": {},
     "output_type": "execute_result"
    }
   ],
   "source": [
    "df13= mk_book_list(13)\n",
    "df13.shape"
   ]
  },
  {
   "cell_type": "code",
   "execution_count": 237,
   "metadata": {},
   "outputs": [
    {
     "data": {
      "text/plain": [
       "(20, 4)"
      ]
     },
     "execution_count": 237,
     "metadata": {},
     "output_type": "execute_result"
    }
   ],
   "source": [
    "df14= mk_book_list(14)\n",
    "df14.shape"
   ]
  },
  {
   "cell_type": "code",
   "execution_count": 243,
   "metadata": {},
   "outputs": [
    {
     "data": {
      "text/plain": [
       "(20, 4)"
      ]
     },
     "execution_count": 243,
     "metadata": {},
     "output_type": "execute_result"
    }
   ],
   "source": [
    "df15= mk_book_list(15)\n",
    "df15.shape"
   ]
  },
  {
   "cell_type": "code",
   "execution_count": 249,
   "metadata": {},
   "outputs": [
    {
     "data": {
      "text/plain": [
       "(20, 4)"
      ]
     },
     "execution_count": 249,
     "metadata": {},
     "output_type": "execute_result"
    }
   ],
   "source": [
    "df16= mk_book_list(16)\n",
    "df16.shape"
   ]
  },
  {
   "cell_type": "code",
   "execution_count": 256,
   "metadata": {},
   "outputs": [
    {
     "data": {
      "text/plain": [
       "(20, 4)"
      ]
     },
     "execution_count": 256,
     "metadata": {},
     "output_type": "execute_result"
    }
   ],
   "source": [
    "df17= mk_book_list(17)\n",
    "df17.shape"
   ]
  },
  {
   "cell_type": "code",
   "execution_count": 261,
   "metadata": {},
   "outputs": [
    {
     "data": {
      "text/plain": [
       "(20, 4)"
      ]
     },
     "execution_count": 261,
     "metadata": {},
     "output_type": "execute_result"
    }
   ],
   "source": [
    "df18= mk_book_list(18)\n",
    "df18.shape"
   ]
  },
  {
   "cell_type": "code",
   "execution_count": 268,
   "metadata": {},
   "outputs": [
    {
     "data": {
      "text/plain": [
       "(20, 4)"
      ]
     },
     "execution_count": 268,
     "metadata": {},
     "output_type": "execute_result"
    }
   ],
   "source": [
    "df19= mk_book_list(19)\n",
    "df19.shape"
   ]
  },
  {
   "cell_type": "code",
   "execution_count": 275,
   "metadata": {},
   "outputs": [
    {
     "data": {
      "text/plain": [
       "(20, 4)"
      ]
     },
     "execution_count": 275,
     "metadata": {},
     "output_type": "execute_result"
    }
   ],
   "source": [
    "df20= mk_book_list(20)\n",
    "df20.shape"
   ]
  },
  {
   "cell_type": "code",
   "execution_count": 283,
   "metadata": {},
   "outputs": [
    {
     "data": {
      "text/plain": [
       "(20, 4)"
      ]
     },
     "execution_count": 283,
     "metadata": {},
     "output_type": "execute_result"
    }
   ],
   "source": [
    "df21= mk_book_list(21)\n",
    "df21.shape"
   ]
  },
  {
   "cell_type": "code",
   "execution_count": 288,
   "metadata": {},
   "outputs": [
    {
     "data": {
      "text/plain": [
       "(20, 4)"
      ]
     },
     "execution_count": 288,
     "metadata": {},
     "output_type": "execute_result"
    }
   ],
   "source": [
    "df22= mk_book_list(22)\n",
    "df22.shape"
   ]
  },
  {
   "cell_type": "code",
   "execution_count": 292,
   "metadata": {},
   "outputs": [
    {
     "data": {
      "text/plain": [
       "(20, 4)"
      ]
     },
     "execution_count": 292,
     "metadata": {},
     "output_type": "execute_result"
    }
   ],
   "source": [
    "df23= mk_book_list(23)\n",
    "df23.shape"
   ]
  },
  {
   "cell_type": "code",
   "execution_count": 299,
   "metadata": {},
   "outputs": [
    {
     "data": {
      "text/plain": [
       "(20, 4)"
      ]
     },
     "execution_count": 299,
     "metadata": {},
     "output_type": "execute_result"
    }
   ],
   "source": [
    "df24= mk_book_list(24)\n",
    "df24.shape"
   ]
  },
  {
   "cell_type": "code",
   "execution_count": 305,
   "metadata": {},
   "outputs": [
    {
     "data": {
      "text/plain": [
       "(20, 4)"
      ]
     },
     "execution_count": 305,
     "metadata": {},
     "output_type": "execute_result"
    }
   ],
   "source": [
    "df25= mk_book_list(25)\n",
    "df25.shape"
   ]
  },
  {
   "cell_type": "code",
   "execution_count": 312,
   "metadata": {},
   "outputs": [
    {
     "data": {
      "text/plain": [
       "(20, 4)"
      ]
     },
     "execution_count": 312,
     "metadata": {},
     "output_type": "execute_result"
    }
   ],
   "source": [
    "df26= mk_book_list(26)\n",
    "df26.shape"
   ]
  },
  {
   "cell_type": "code",
   "execution_count": 320,
   "metadata": {},
   "outputs": [
    {
     "data": {
      "text/plain": [
       "(20, 4)"
      ]
     },
     "execution_count": 320,
     "metadata": {},
     "output_type": "execute_result"
    }
   ],
   "source": [
    "df27= mk_book_list(27)\n",
    "df27.shape"
   ]
  },
  {
   "cell_type": "code",
   "execution_count": 327,
   "metadata": {},
   "outputs": [
    {
     "data": {
      "text/plain": [
       "(20, 4)"
      ]
     },
     "execution_count": 327,
     "metadata": {},
     "output_type": "execute_result"
    }
   ],
   "source": [
    "df28= mk_book_list(28)\n",
    "df28.shape"
   ]
  },
  {
   "cell_type": "code",
   "execution_count": 333,
   "metadata": {},
   "outputs": [
    {
     "data": {
      "text/plain": [
       "(15, 4)"
      ]
     },
     "execution_count": 333,
     "metadata": {},
     "output_type": "execute_result"
    }
   ],
   "source": [
    "df29= mk_book_list(29)\n",
    "df29.shape"
   ]
  },
  {
   "cell_type": "code",
   "execution_count": 334,
   "metadata": {},
   "outputs": [
    {
     "data": {
      "text/plain": [
       "(575, 4)"
      ]
     },
     "execution_count": 334,
     "metadata": {},
     "output_type": "execute_result"
    }
   ],
   "source": [
    "df_all = pd.concat([df1,df2,df3,df4,df5,df6,df7,df8,df9,df10,\n",
    "          df11,df12,df13,df14,df15,df16,df17,df18,df19,df20,\n",
    "          df21,df22,df23,df24,df25,df26,df27,df28,df29],axis=0)\n",
    "df_all.shape"
   ]
  },
  {
   "cell_type": "code",
   "execution_count": 335,
   "metadata": {},
   "outputs": [],
   "source": [
    "df_all.to_csv(\"/Users/soriiieee/work2/sci/d0727/deep_learning_pytorch/tmp/list_book.csv\", index=False)"
   ]
  },
  {
   "cell_type": "code",
   "execution_count": 374,
   "metadata": {},
   "outputs": [],
   "source": [
    "def load_data():\n",
    "    path = \"/Users/soriiieee/work2/sci/d0727/deep_learning_pytorch/tmp/list_book.csv\"\n",
    "    df = pd.read_csv(path)\n",
    "    df[\"time\"] = pd.to_datetime(df[\"time\"])\n",
    "    df[\"yy\"] = df[\"time\"].apply(lambda x: x.strftime(\"%Y\"))\n",
    "    df[\"mm\"] = df[\"time\"].apply(lambda x: x.strftime(\"%m\"))\n",
    "    df[\"ym\"] = df[\"time\"].apply(lambda x: x.strftime(\"%Y%m\"))\n",
    "    return df\n",
    "\n",
    "def heatmap():\n",
    "    df = load_data()\n",
    "    return\n",
    "\n",
    "def plot_bar(df,c):\n",
    "    f,ax = plt.subplots(figsize=(18,8))\n",
    "    \n",
    "    _mm = df[\"mm\"].values.tolist()\n",
    "    ax.bar(np.arange(len(df)), df[c])\n",
    "    ax.set_title(c)\n",
    "    ax.grid()\n",
    "    ax.set_xticks(np.arange(len(df)))\n",
    "    ax.set_xlim(0,len(df))\n",
    "    ax.set_xticklabels(_mm)\n",
    "    plt.show()\n",
    "    return\n",
    "\n",
    "def plot_line(df,_col):\n",
    "    f,ax = plt.subplots(figsize=(18,8))\n",
    "    vmax=25\n",
    "    for i,c in enumerate(reversed(_col)):\n",
    "        if i==0:\n",
    "            lw=3\n",
    "        else:\n",
    "            lw=2\n",
    "        num_all = int(np.sum(df[c]))\n",
    "        label = f\"YY={c}| All({num_all})\"\n",
    "        ax.plot(np.arange(len(df)), df[c],label=label,marker=\"o\",lw=lw)\n",
    "#     ax.set_title(c)\n",
    "    ax.legend()\n",
    "    ax.set_ylim(0,vmax)\n",
    "    ax.grid()\n",
    "    plt.show()\n",
    "    return\n",
    "\n",
    "def plot_line2(_df,c,_title):\n",
    "    f,ax = plt.subplots(figsize=(18,8))\n",
    "    vmax=25\n",
    "    for df,title in zip(_df,_title):\n",
    "        ax.plot(np.arange(len(df)), df[c],label=title)\n",
    "#     ax.set_title(c)\n",
    "    ax.legend()\n",
    "    ax.set_ylim(0,vmax)\n",
    "    \n",
    "    ax.grid()\n",
    "    plt.show()\n",
    "    return"
   ]
  },
  {
   "cell_type": "code",
   "execution_count": 380,
   "metadata": {},
   "outputs": [
    {
     "data": {
      "image/png": "[encoded data removed]",
      "text/plain": [
       "<Figure size 1296x576 with 1 Axes>"
      ]
     },
     "metadata": {
      "needs_background": "light"
     },
     "output_type": "display_data"
    },
    {
     "data": {
      "image/png": "[encoded data removed]",
      "text/plain": [
       "<Figure size 1296x576 with 1 Axes>"
      ]
     },
     "metadata": {
      "needs_background": "light"
     },
     "output_type": "display_data"
    }
   ],
   "source": [
    "# tmp = load_data().groupby([\"yy\",\"mm\"]).agg({\"title\":\"count\"})\n",
    "# _df = [ df[df[\"yy\"]==yy] for yy in sorted(df[\"yy\"].unique().tolist()) ]\n",
    "# _title = [ yy for yy in sorted(df[\"yy\"].unique().tolist()) ]\n",
    "# tmp = tmp.reset_index()\n",
    "# plot_bar(tmp,\"title\")\n",
    "def pivot_df():\n",
    "    df = load_data()\n",
    "    df = df.groupby([\"yy\",\"mm\"]).count().reset_index()\n",
    "    df = df.pivot(index='mm', columns='yy', values='title')\n",
    "    df = df.reset_index()\n",
    "    return df\n",
    "\n",
    "df = pivot_df()\n",
    "# df.columns\n",
    "# _col = ['2010', '2011', '2012', '2013']\n",
    "# _col = ['2014','2015', '2016']\n",
    "# _col = ['2017','2018', '2019']\n",
    "_col = ['2020', '2021']\n",
    "plot_line(df,_col)\n",
    "plot_bar(df,\"2021\")"
   ]
  },
  {
   "cell_type": "code",
   "execution_count": null,
   "metadata": {},
   "outputs": [],
   "source": []
  }
 ],
 "metadata": {
  "kernelspec": {
   "display_name": "Python 3",
   "language": "python",
   "name": "python3"
  },
  "language_info": {
   "codemirror_mode": {
    "name": "ipython",
    "version": 3
   },
   "file_extension": ".py",
   "mimetype": "text/x-python",
   "name": "python",
   "nbconvert_exporter": "python",
   "pygments_lexer": "ipython3",
   "version": "3.7.9"
  }
 },
 "nbformat": 4,
 "nbformat_minor": 4
}
