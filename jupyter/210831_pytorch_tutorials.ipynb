{
 "cells": [
  {
   "cell_type": "code",
   "execution_count": 1,
   "metadata": {},
   "outputs": [],
   "source": [
    "#https://pytorch.org/tutorials/beginner/nn_tutorial.html\n",
    "\n",
    "import matplotlib.pyplot as plt\n",
    "import sys,os,re,glob\n",
    "import pandas as pd\n",
    "import numpy as np\n",
    "from datetime import datetime, timedelta\n",
    "import warnings\n",
    "warnings.simplefilter('ignore')\n",
    "from tqdm import tqdm\n",
    "import seaborn as sns\n",
    "# sori -module\n",
    "sys.path.append('/home/ysorimachi/tool')\n",
    "from getErrorValues import me,rmse,mae,r2 #(x,y)\n",
    "from convSokuhouData import conv_sfc #(df, ave=minutes,hour)\n",
    "\n",
    "#---------------------------------------------------\n",
    "import subprocess\n",
    "import requests\n",
    "#--------------------------\n",
    "import pickle\n",
    "import gzip\n",
    "from pathlib import Path\n",
    "import torch"
   ]
  },
  {
   "cell_type": "code",
   "execution_count": 4,
   "metadata": {},
   "outputs": [
    {
     "name": "stdout",
     "output_type": "stream",
     "text": [
      "# conda environments:\r\n",
      "#\r\n",
      "py2                      /home/ysorimachi/.conda/envs/py2\r\n",
      "sori_conda               /home/ysorimachi/.conda/envs/sori_conda\r\n",
      "sori_earthquake          /home/ysorimachi/.conda/envs/sori_earthquake\r\n",
      "sori_geo                 /home/ysorimachi/.conda/envs/sori_geo\r\n",
      "sori_torch            *  /home/ysorimachi/.conda/envs/sori_torch\r\n",
      "base                     /opt/pyenv/versions/miniconda3-latest\r\n",
      "anaconda201910           /opt/pyenv/versions/miniconda3-latest/envs/anaconda201910\r\n",
      "elf208                   /opt/pyenv/versions/miniconda3-latest/envs/elf208\r\n",
      "\r\n"
     ]
    }
   ],
   "source": [
    "torch.__version__\n",
    "# subprocess.run(\"conda info -e\", shell=True)\n",
    "!conda info -e"
   ]
  },
  {
   "cell_type": "code",
   "execution_count": 5,
   "metadata": {},
   "outputs": [],
   "source": [
    "DATA_PATH = \"/home/ysorimachi/work/sori_py2/deepl/dat/data\"\n",
    "DATA_PATH = Path(\"data\")\n",
    "PATH = DATA_PATH / \"mnist\"\n",
    "\n",
    "PATH.mkdir(parents=True, exist_ok=True)\n",
    "\n",
    "URL = \"https://github.com/pytorch/tutorials/raw/master/_static/\"\n",
    "FILENAME = \"mnist.pkl.gz\"\n",
    "\n",
    "if not (PATH / FILENAME).exists():\n",
    "        content = requests.get(URL + FILENAME).content\n",
    "        (PATH / FILENAME).open(\"wb\").write(content)"
   ]
  },
  {
   "cell_type": "code",
   "execution_count": 8,
   "metadata": {},
   "outputs": [],
   "source": [
    "with gzip.open((PATH / FILENAME).as_posix(), \"rb\") as f:\n",
    "    ((x_train, y_train), (x_valid, y_valid), _) = pickle.load(f, encoding=\"latin-1\")"
   ]
  },
  {
   "cell_type": "code",
   "execution_count": 9,
   "metadata": {},
   "outputs": [
    {
     "data": {
      "text/plain": [
       "(50000, 784)"
      ]
     },
     "execution_count": 9,
     "metadata": {},
     "output_type": "execute_result"
    }
   ],
   "source": [
    "x_train.shape"
   ]
  },
  {
   "cell_type": "code",
   "execution_count": 10,
   "metadata": {},
   "outputs": [
    {
     "data": {
      "text/plain": [
       "<matplotlib.image.AxesImage at 0x7fd40103a670>"
      ]
     },
     "execution_count": 10,
     "metadata": {},
     "output_type": "execute_result"
    },
    {
     "data": {
      "image/png": "[encoded data removed]",
      "text/plain": [
       "<Figure size 432x288 with 1 Axes>"
      ]
     },
     "metadata": {
      "needs_background": "light"
     },
     "output_type": "display_data"
    }
   ],
   "source": [
    "plt.imshow(x_train[0].reshape((28,28)),cmap=\"gray\")"
   ]
  },
  {
   "cell_type": "code",
   "execution_count": 18,
   "metadata": {
    "scrolled": true
   },
   "outputs": [
    {
     "name": "stdout",
     "output_type": "stream",
     "text": [
      "torch.Size([50000, 784])\n",
      "tensor(0) tensor(9)\n"
     ]
    }
   ],
   "source": [
    "x_train,y_train, x_valid,y_valid = map(torch.tensor, (x_train, y_train,x_valid, y_valid))\n",
    "n,c = x_train.shape\n",
    "\n",
    "print(x_train.shape)\n",
    "print(y_train.min(), y_train.max())"
   ]
  },
  {
   "cell_type": "code",
   "execution_count": 19,
   "metadata": {},
   "outputs": [
    {
     "name": "stdout",
     "output_type": "stream",
     "text": [
      "tensor([[ 0.0070,  0.0561,  0.0422,  ..., -0.0365,  0.0234, -0.0236],\n",
      "        [ 0.0418,  0.0033,  0.0292,  ..., -0.0108,  0.0118,  0.0005],\n",
      "        [-0.0115, -0.0118,  0.0185,  ...,  0.0037,  0.0164, -0.0034],\n",
      "        ...,\n",
      "        [ 0.0633, -0.0030,  0.0557,  ...,  0.0403,  0.0142,  0.0091],\n",
      "        [-0.0256,  0.0058,  0.0122,  ...,  0.0322, -0.0411,  0.0316],\n",
      "        [ 0.0049,  0.0162,  0.0112,  ...,  0.0443,  0.0822,  0.0409]])\n",
      "tensor([[ 0.0070,  0.0561,  0.0422,  ..., -0.0365,  0.0234, -0.0236],\n",
      "        [ 0.0418,  0.0033,  0.0292,  ..., -0.0108,  0.0118,  0.0005],\n",
      "        [-0.0115, -0.0118,  0.0185,  ...,  0.0037,  0.0164, -0.0034],\n",
      "        ...,\n",
      "        [ 0.0633, -0.0030,  0.0557,  ...,  0.0403,  0.0142,  0.0091],\n",
      "        [-0.0256,  0.0058,  0.0122,  ...,  0.0322, -0.0411,  0.0316],\n",
      "        [ 0.0049,  0.0162,  0.0112,  ...,  0.0443,  0.0822,  0.0409]],\n",
      "       requires_grad=True)\n"
     ]
    }
   ],
   "source": [
    "weights = torch.randn(784,10)/ math.sqrt(784)\n",
    "print(weights)\n",
    "weights.requires_grad_()\n",
    "print(weights)\n",
    "bias = torch.zeros(10, requires_grad = True)\n",
    "\n",
    "def log_softmax(x):\n",
    "    return x - x.exp().sum(-1).log().unsqueeze(-1)\n",
    "\n",
    "def model(xb):\n",
    "    return log_softmax(xb @ weights + bias)\n"
   ]
  },
  {
   "cell_type": "code",
   "execution_count": 21,
   "metadata": {},
   "outputs": [],
   "source": [
    "batch_size = 64\n",
    "x_batch = x_train[0:batch_size]\n",
    "preds = model(x_batch)\n",
    "\n",
    "def nll(input, target):\n",
    "    return -input[range(target.shape[0]), target].mean()\n",
    "\n",
    "loss_func = nll"
   ]
  },
  {
   "cell_type": "code",
   "execution_count": 22,
   "metadata": {},
   "outputs": [
    {
     "data": {
      "text/plain": [
       "tensor(2.2503, grad_fn=<NegBackward>)"
      ]
     },
     "execution_count": 22,
     "metadata": {},
     "output_type": "execute_result"
    }
   ],
   "source": [
    "y_batch = y_train[0:batch_size]\n",
    "loss_func(preds, y_batch)"
   ]
  },
  {
   "cell_type": "code",
   "execution_count": 23,
   "metadata": {},
   "outputs": [
    {
     "data": {
      "text/plain": [
       "tensor(0.1250)"
      ]
     },
     "execution_count": 23,
     "metadata": {},
     "output_type": "execute_result"
    }
   ],
   "source": [
    "def accuracy(out,targets):\n",
    "    preds = torch.argmax(out,dim=1)\n",
    "    return (preds==targets).float().mean()\n",
    "accuracy(preds, y_batch)    "
   ]
  },
  {
   "cell_type": "code",
   "execution_count": 24,
   "metadata": {},
   "outputs": [],
   "source": [
    "# training loop program\n",
    "from IPython.core.debugger import set_trace\n",
    "\n",
    "lr = 0.5\n",
    "epochs =2\n",
    "\n",
    "for epoch in range(epochs):\n",
    "    for i in range((n-1)// batch_size + 1):\n",
    "        # set_trace()\n",
    "        \n",
    "        start_i = i* batch_size\n",
    "        end_i = start_i + batch_size\n",
    "        \n",
    "        xb = x_train[start_i: end_i]\n",
    "        yb = y_train[start_i: end_i]\n",
    "        \n",
    "        pred = model(xb)\n",
    "        loss = loss_func(pred,yb)\n",
    "        \n",
    "        #この処理で、weights.gradsと、bias.grads　に微分した結果が格納される\n",
    "        loss.backward() #backpropagation \n",
    "        \n",
    "        with torch.no_grad():\n",
    "            # weights.gradsには、weightの数値微分した結果がtensorで格納されているので、broadcastでlrを掛けた値を引き算して更新する \n",
    "            weights -= weights.grad * lr \n",
    "            bias -= bias.grad * lr\n",
    "            #次の為に、勾配を初期化しておく\n",
    "            weights.grad.zero_()\n",
    "            bias.grad.zero_()\n",
    "            \n",
    "        "
   ]
  },
  {
   "cell_type": "code",
   "execution_count": 25,
   "metadata": {},
   "outputs": [
    {
     "data": {
      "text/plain": [
       "(tensor(0.0819, grad_fn=<NegBackward>), tensor(1.))"
      ]
     },
     "execution_count": 25,
     "metadata": {},
     "output_type": "execute_result"
    }
   ],
   "source": [
    "# results \n",
    "loss_func(model(xb), yb), accuracy(model(xb),yb)"
   ]
  },
  {
   "cell_type": "code",
   "execution_count": null,
   "metadata": {},
   "outputs": [],
   "source": []
  },
  {
   "cell_type": "code",
   "execution_count": 26,
   "metadata": {},
   "outputs": [],
   "source": [
    "import torch.nn.functional as F\n",
    "\n",
    "loss_func = F.cross_entropy\n",
    "\n",
    "def model(xb):\n",
    "    return xb @ weights + bias"
   ]
  },
  {
   "cell_type": "code",
   "execution_count": 27,
   "metadata": {},
   "outputs": [
    {
     "data": {
      "text/plain": [
       "(tensor(0.0819, grad_fn=<NllLossBackward>), tensor(1.))"
      ]
     },
     "execution_count": 27,
     "metadata": {},
     "output_type": "execute_result"
    }
   ],
   "source": [
    "# results \n",
    "loss_func(model(xb), yb), accuracy(model(xb),yb)"
   ]
  },
  {
   "cell_type": "code",
   "execution_count": 28,
   "metadata": {},
   "outputs": [],
   "source": [
    "from torch import nn\n",
    "\n",
    "class Mnist_Logistic(nn.Module):\n",
    "    def __init__(self):\n",
    "        super().__init__()\n",
    "        self.weights = nn.Parameter(torch.randn(784, 10) / math.sqrt(784))\n",
    "        self.bias = nn.Parameter(torch.zeros(10))\n",
    "\n",
    "    def forward(self, xb):\n",
    "        return xb @ self.weights + self.bias"
   ]
  },
  {
   "cell_type": "code",
   "execution_count": 29,
   "metadata": {},
   "outputs": [
    {
     "name": "stdout",
     "output_type": "stream",
     "text": [
      "tensor(2.2639, grad_fn=<NllLossBackward>)\n"
     ]
    }
   ],
   "source": [
    "model = Mnist_Logistic()\n",
    "print(loss_func(model(xb), yb))\n"
   ]
  },
  {
   "cell_type": "code",
   "execution_count": 31,
   "metadata": {},
   "outputs": [],
   "source": [
    "def fit():\n",
    "    for epoch in range(epochs):\n",
    "        for i in range((n-1)// batch_size + 1):\n",
    "            # set_trace()\n",
    "\n",
    "            start_i = i* batch_size\n",
    "            end_i = start_i + batch_size\n",
    "\n",
    "            xb = x_train[start_i: end_i]\n",
    "            yb = y_train[start_i: end_i]\n",
    "\n",
    "            pred = model(xb)\n",
    "            loss = loss_func(pred,yb)\n",
    "\n",
    "            #この処理で、weights.gradsと、bias.grads　に微分した結果が格納される\n",
    "            loss.backward() #backpropagation \n",
    "            with torch.no_grad():\n",
    "                # weights.gradsには、weightの数値微分した結果がtensorで格納されているので、broadcastでlrを掛けた値を引き算して更新する \n",
    "                for p in model.parameters():\n",
    "                    p -= p.grad * lr \n",
    "                #次の為に、勾配を初期化しておく\n",
    "                model.zero_grad()\n",
    "fit()"
   ]
  },
  {
   "cell_type": "code",
   "execution_count": 32,
   "metadata": {},
   "outputs": [
    {
     "name": "stdout",
     "output_type": "stream",
     "text": [
      "tensor(0.0824, grad_fn=<NllLossBackward>)\n"
     ]
    }
   ],
   "source": [
    "print(loss_func(model(xb), yb))"
   ]
  },
  {
   "cell_type": "code",
   "execution_count": 33,
   "metadata": {},
   "outputs": [],
   "source": [
    "class Mnist_Logistic(nn.Module):\n",
    "    def __init__(self):\n",
    "        super().__init__()\n",
    "#         self.weights = nn.Parameter(torch.randn(784, 10) / math.sqrt(784))\n",
    "#         self.bias = nn.Parameter(torch.zeros(10))\n",
    "        self.lin = nn.Linear(784,10)\n",
    "\n",
    "    def forward(self, xb):\n",
    "        out = self.lin(xb)\n",
    "        return out"
   ]
  },
  {
   "cell_type": "code",
   "execution_count": 34,
   "metadata": {},
   "outputs": [
    {
     "name": "stdout",
     "output_type": "stream",
     "text": [
      "tensor(2.3395, grad_fn=<NllLossBackward>)\n"
     ]
    }
   ],
   "source": [
    "model = Mnist_Logistic()\n",
    "print(loss_func(model(xb), yb))"
   ]
  },
  {
   "cell_type": "code",
   "execution_count": 36,
   "metadata": {},
   "outputs": [
    {
     "name": "stdout",
     "output_type": "stream",
     "text": [
      "tensor(0.0661, grad_fn=<NllLossBackward>)\n"
     ]
    }
   ],
   "source": [
    "fit()\n",
    "print(loss_func(model(xb), yb))"
   ]
  },
  {
   "cell_type": "code",
   "execution_count": 40,
   "metadata": {},
   "outputs": [
    {
     "name": "stdout",
     "output_type": "stream",
     "text": [
      "tensor(2.2976, grad_fn=<NllLossBackward>)\n",
      "tensor(0.0800, grad_fn=<NllLossBackward>)\n"
     ]
    }
   ],
   "source": [
    "from torch import optim\n",
    "def get_model():\n",
    "    model = Mnist_Logistic()\n",
    "    optimizer = optim.SGD(model.parameters(), lr=lr)\n",
    "    return model,optimizer\n",
    "\n",
    "model,optimizer = get_model()\n",
    "print(loss_func(model(xb), yb)) #学習していない状況\n",
    "\n",
    "for epoch in range(epochs):\n",
    "    for i in range((n - 1) // batch_size + 1):\n",
    "        start_i = i * batch_size\n",
    "        end_i = start_i + batch_size\n",
    "        xb = x_train[start_i:end_i]\n",
    "        yb = y_train[start_i:end_i]\n",
    "        pred = model(xb)\n",
    "        loss = loss_func(pred, yb)\n",
    "\n",
    "        loss.backward()\n",
    "        optimizer.step() #weights/bias update\n",
    "        optimizer.zero_grad() #weights/bias 初期化\n",
    "print(loss_func(model(xb), yb))"
   ]
  },
  {
   "cell_type": "code",
   "execution_count": 41,
   "metadata": {},
   "outputs": [
    {
     "name": "stdout",
     "output_type": "stream",
     "text": [
      "tensor(0.0648, grad_fn=<NllLossBackward>)\n"
     ]
    }
   ],
   "source": [
    "from torch.utils.data import TensorDataset\n",
    "from torch.utils.data import DataLoader\n",
    "\n",
    "train_ds = TensorDataset(x_train,y_train)\n",
    "train_dl = DataLoader(train_ds, batch_size=batch_size)\n",
    "\n",
    "# print(loss_func(model(xb), yb))\n",
    "for epoch in range(epochs):\n",
    "#     for i in range((n - 1) // batch_size + 1):\n",
    "    for xb,yb in train_dl:\n",
    "        \n",
    "#         start_i = i * batch_size\n",
    "#         end_i = start_i + batch_size\n",
    "#         xb = x_train[start_i:end_i]\n",
    "#         yb = y_train[start_i:end_i]\n",
    "        pred = model(xb)\n",
    "        loss = loss_func(pred, yb)\n",
    "\n",
    "        loss.backward()\n",
    "        optimizer.step() #weights/bias update\n",
    "        optimizer.zero_grad() #weights/bias 初期化\n",
    "print(loss_func(model(xb), yb))"
   ]
  },
  {
   "cell_type": "code",
   "execution_count": 42,
   "metadata": {},
   "outputs": [],
   "source": [
    "#data\n",
    "\n",
    "train_ds = TensorDataset(x_train,y_train)\n",
    "train_dl = DataLoader(train_ds, batch_size= batch_size)\n",
    "\n",
    "valid_ds = TensorDataset(x_valid, y_valid)\n",
    "valid_dl = DataLoader(valid_ds, batch_size= batch_size*2)\n"
   ]
  },
  {
   "cell_type": "code",
   "execution_count": 43,
   "metadata": {},
   "outputs": [
    {
     "name": "stdout",
     "output_type": "stream",
     "text": [
      "5 回目 tensor(0.3089)\n",
      "5 回目 tensor(0.2898)\n",
      "5 回目 tensor(0.2830)\n",
      "5 回目 tensor(0.2798)\n",
      "5 回目 tensor(0.2780)\n"
     ]
    }
   ],
   "source": [
    "# train\n",
    "model, optimizer = get_model()\n",
    "\n",
    "epochs = 5\n",
    "for epoch in range(epochs):\n",
    "    #init\n",
    "    model.train()\n",
    "    #-iterations---\n",
    "    for xb,yb in train_dl:\n",
    "        pred = model(xb)\n",
    "        loss = loss_func(pred, yb)\n",
    "        loss.backward()\n",
    "        \n",
    "        optimizer.step()\n",
    "        optimizer.zero_grad()\n",
    "    #-------------\n",
    "    model.eval()\n",
    "    with torch.no_grad():\n",
    "        total_loss=0\n",
    "        for xb,yb in valid_dl:\n",
    "            total_loss += loss_func(model(xb), yb)\n",
    "        \n",
    "        print(epochs,\"回目\",total_loss / len(valid_dl))\n",
    "        "
   ]
  },
  {
   "cell_type": "code",
   "execution_count": 44,
   "metadata": {},
   "outputs": [],
   "source": [
    "def loss_batch(model, loss_func, xb, yb, opt=None):\n",
    "    loss = loss_func(model(xb), yb)\n",
    "\n",
    "    if opt is not None:\n",
    "        loss.backward()\n",
    "        opt.step()\n",
    "        opt.zero_grad()\n",
    "\n",
    "    return loss.item(), len(xb)\n",
    "\n",
    "import numpy as np\n",
    "\n",
    "def fit(epochs, model, loss_func, opt, train_dl, valid_dl):\n",
    "    for epoch in range(epochs):\n",
    "        model.train()\n",
    "        for xb, yb in train_dl:\n",
    "            loss_batch(model, loss_func, xb, yb, opt)\n",
    "\n",
    "        model.eval()\n",
    "        with torch.no_grad():\n",
    "            losses, nums = zip(\n",
    "                *[loss_batch(model, loss_func, xb, yb) for xb, yb in valid_dl]\n",
    "            )\n",
    "        val_loss = np.sum(np.multiply(losses, nums)) / np.sum(nums)\n",
    "\n",
    "        print(epoch, val_loss)\n",
    "    \n",
    "def get_data(train_ds, valid_ds, bs):\n",
    "    return (\n",
    "        DataLoader(train_ds, batch_size=bs, shuffle=True),\n",
    "        DataLoader(valid_ds, batch_size=bs * 2),\n",
    "    )"
   ]
  },
  {
   "cell_type": "code",
   "execution_count": 45,
   "metadata": {},
   "outputs": [
    {
     "name": "stdout",
     "output_type": "stream",
     "text": [
      "0 0.2924481209635735\n",
      "1 0.2878860826730728\n",
      "2 0.2898100882768631\n",
      "3 0.28581833176612853\n",
      "4 0.28255146898031236\n"
     ]
    }
   ],
   "source": [
    "train_dl, valid_dl = get_data(train_ds, valid_ds, batch_size)\n",
    "model, opt = get_model()\n",
    "fit(epochs, model, loss_func, opt, train_dl, valid_dl)"
   ]
  },
  {
   "cell_type": "code",
   "execution_count": 46,
   "metadata": {},
   "outputs": [],
   "source": [
    "class Mnist_CNN(nn.Module):\n",
    "    def __init__(self):\n",
    "        super().__init__()\n",
    "        self.conv1 = nn.Conv2d(1, 16, kernel_size=3, stride=2, padding=1)\n",
    "        self.conv2 = nn.Conv2d(16, 16, kernel_size=3, stride=2, padding=1)\n",
    "        self.conv3 = nn.Conv2d(16, 10, kernel_size=3, stride=2, padding=1)\n",
    "        \n",
    "    def forward(self,xb):\n",
    "        xb = xb.view(-1,1,28,28)\n",
    "        xb = F.relu(self.conv1(xb))\n",
    "        xb = F.relu(self.conv2(xb))\n",
    "        xb = F.relu(self.conv3(xb))\n",
    "        \n",
    "        xb = F.avg_pool2d(xb,4)\n",
    "        xb = xb.view(-1, xb.size(1))\n",
    "        return xb\n",
    "    \n",
    "lr = 0.1"
   ]
  },
  {
   "cell_type": "code",
   "execution_count": 47,
   "metadata": {},
   "outputs": [
    {
     "name": "stdout",
     "output_type": "stream",
     "text": [
      "0 0.32274810020923617\n",
      "1 0.22977866077423095\n",
      "2 0.18718481802940368\n",
      "3 0.1896251825094223\n",
      "4 0.18532829814851284\n"
     ]
    }
   ],
   "source": [
    "model = Mnist_CNN()\n",
    "opt = optim.SGD(model.parameters(), lr = lr, momentum=0.9)\n",
    "fit(epochs, model, loss_func, opt, train_dl, valid_dl)\n"
   ]
  },
  {
   "cell_type": "code",
   "execution_count": 48,
   "metadata": {},
   "outputs": [
    {
     "data": {
      "text/plain": [
       "False"
      ]
     },
     "execution_count": 48,
     "metadata": {},
     "output_type": "execute_result"
    }
   ],
   "source": [
    "torch.cuda.is_available()"
   ]
  },
  {
   "cell_type": "code",
   "execution_count": 51,
   "metadata": {},
   "outputs": [
    {
     "data": {
      "text/plain": [
       "device(type='cpu')"
      ]
     },
     "execution_count": 51,
     "metadata": {},
     "output_type": "execute_result"
    }
   ],
   "source": [
    "device = torch.device(\"cuda\") if torch.cuda.is_available() else torch.device(\"cpu\")\n",
    "device"
   ]
  },
  {
   "cell_type": "code",
   "execution_count": null,
   "metadata": {},
   "outputs": [],
   "source": []
  }
 ],
 "metadata": {
  "kernelspec": {
   "display_name": "Python 3",
   "language": "python",
   "name": "python3"
  },
  "language_info": {
   "codemirror_mode": {
    "name": "ipython",
    "version": 3
   },
   "file_extension": ".py",
   "mimetype": "text/x-python",
   "name": "python",
   "nbconvert_exporter": "python",
   "pygments_lexer": "ipython3",
   "version": "3.8.5"
  }
 },
 "nbformat": 4,
 "nbformat_minor": 4
}
